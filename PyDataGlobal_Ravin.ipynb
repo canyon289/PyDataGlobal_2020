{
 "cells": [
  {
   "cell_type": "markdown",
   "metadata": {
    "cell_style": "center",
    "slideshow": {
     "slide_type": "slide"
    }
   },
   "source": [
    "# Bayesian Decision Making\n",
    "PyData Global 2020\n",
    "\n",
    "If you are reading the interactive slides from binder, press `space` to move to the next slide."
   ]
  },
  {
   "cell_type": "markdown",
   "metadata": {
    "slideshow": {
     "slide_type": "skip"
    }
   },
   "source": [
    "# Note to those running this locally\n",
    "Remove the %%capture headers to get the image outputs"
   ]
  },
  {
   "cell_type": "code",
   "execution_count": 1,
   "metadata": {
    "slideshow": {
     "slide_type": "skip"
    }
   },
   "outputs": [],
   "source": [
    "import matplotlib.pyplot as plt\n",
    "from scipy import stats, optimize\n",
    "import numpy as np\n",
    "np.set_printoptions(precision=2, floatmode=\"fixed\")"
   ]
  },
  {
   "cell_type": "markdown",
   "metadata": {
    "slideshow": {
     "slide_type": "notes"
    }
   },
   "source": [
    "Useful links\n",
    "https://www.markroepke.me/posts/2019/06/05/tips-for-slideshows-in-jupyter.html"
   ]
  },
  {
   "cell_type": "markdown",
   "metadata": {
    "slideshow": {
     "slide_type": "notes"
    }
   },
   "source": [
    "Decisions are everywhere, from deciding what to wear given a weather forecast each day to deciding how much inventory to hold in a multi million dollar supply chain. What is certain is that tools in the PyData ecosystem can help you, or your business, make those decisions with more confidence. Its called decision science in this talk we'll cover what it is and how to use it."
   ]
  },
  {
   "cell_type": "markdown",
   "metadata": {
    "slideshow": {
     "slide_type": "notes"
    }
   },
   "source": [
    "## Outline\n",
    "\n",
    "The talk will be presented in a way that will not require deep knowledge of any of the technical topics, but just an intuition of basic supply, demand, and multiplication. The intent of the talk is to show how the modern computational tools can be used to make more informed decisions and affect change in common business, or even personal life, scenarios\n",
    "\n",
    "### Introduction\n",
    "   * Decisions are everywhere\n",
    "   * Data is now everywhere is well\n",
    "   * Data informed decisions not so much\n",
    "\n",
    "### Decisions from summary analysis\n",
    "   * This is what most businesses do using Excel or Tableau\n",
    "        *Nothing wrong with this approach. Its quick and reliable and most folks have the skillset\n",
    "   * While data focused the approach leads itself to human bias\n",
    "   *  Leaves information on the table\n",
    "   * Not very reproducible\n",
    "   * Doesn't scale to many dimensions\n",
    "   * We can do better\n",
    "\n",
    "### Loss/Cost/Reward/Utility Functions\n",
    "\n",
    "    * Taking an idea from Game Theory different versions of the future will have different goodness\n",
    "    * This lets us determine how much reward we'll get for different actions\n",
    "\n",
    "### Quantifying Uncertainty\n",
    "\n",
    "   * Bayesian Methods let us predict the future, not just summarize the past\n",
    "   * Not just one future though but all futures\n",
    "   * Particularly well suited to explaining why its predictions are the way they are\n",
    "\n",
    "### Optimizing over all possible futures\n",
    "\n",
    "    * Given a distribution of possible futures and a cost function we can optimize to pick an action that will most likely result in the best outcome\n",
    "    * Open Source code makes it really easy these days!\n",
    "\n",
    "\n",
    "Technical Summary of talk\n",
    "I'll be presenting most likely using Jupyter slides. The analysis will cover a little bit of supply chain theory in math form, and then a whole bunch of simulated supply chain theory in usings scipy.stats.(random) methods, PyMC3 or Stan for parameter estimation, more scipy for optimization methods, matplotlib for plotting. Of course numpy and pandas will likely be in there somewhere as well."
   ]
  },
  {
   "cell_type": "markdown",
   "metadata": {
    "slideshow": {
     "slide_type": "slide"
    }
   },
   "source": [
    "# Who Am I\n",
    "\n",
    "* Ravin Kumar\n",
    "* Data Scientist, Supply Chain Engineer, Bayesian Statistician (Depending on who's asking)\n",
    "* Twitter and github: canyon289"
   ]
  },
  {
   "cell_type": "markdown",
   "metadata": {
    "slideshow": {
     "slide_type": "slide"
    }
   },
   "source": [
    "## Core Contributor for PyMC3 and ArviZ\n",
    "\n",
    "Insert Picture"
   ]
  },
  {
   "cell_type": "markdown",
   "metadata": {
    "slideshow": {
     "slide_type": "subslide"
    }
   },
   "source": [
    "# What I used to do: Build supply chain systems stuff like drill ships\n",
    "![DrillShip](img/DrillShip.png)"
   ]
  },
  {
   "cell_type": "markdown",
   "metadata": {
    "slideshow": {
     "slide_type": "subslide"
    }
   },
   "source": [
    "# What I used to do: Use python to make rocket ships\n",
    "\n",
    "![FalconHeavy](img/FalconHeavy.png)"
   ]
  },
  {
   "cell_type": "markdown",
   "metadata": {
    "slideshow": {
     "slide_type": "subslide"
    }
   },
   "source": [
    "# What I used to do: Use statistics to ship salads\n",
    "![Sweetgreen](img/Sweetgreen.png)"
   ]
  },
  {
   "cell_type": "markdown",
   "metadata": {
    "slideshow": {
     "slide_type": "slide"
    }
   },
   "source": [
    "# What I do now: Principal Statistician PyMC Labs\n",
    "\n",
    "## Core Contributor for PyMC and ArviZ\n",
    "Two NumFOCUS Sponsored libraries focused on Bayesian Statistics\n",
    "\n",
    "Insert Picture"
   ]
  },
  {
   "cell_type": "markdown",
   "metadata": {
    "slideshow": {
     "slide_type": "slide"
    }
   },
   "source": [
    "# The power of Bayesian statistics\n",
    "Math can do a lot of things\n",
    "\n",
    "* Outcome characterization - This is the distribution of things that happened\n",
    "* Latent factor analysis - These are the things affect your outcome\n",
    "* **Decision Making** - Given all the potentional here's the most optimal choice to make"
   ]
  },
  {
   "cell_type": "markdown",
   "metadata": {
    "slideshow": {
     "slide_type": "slide"
    }
   },
   "source": [
    "# Organizations need to make decisions\n",
    "Data is optional. The decisions are not\n",
    "<center><img src=\"img/BusinessChoices.png\" alt=\"Drawing\" style=\"height: 500px;\"/> </center>\n"
   ]
  },
  {
   "cell_type": "markdown",
   "metadata": {
    "slideshow": {
     "slide_type": "slide"
    }
   },
   "source": [
    "# Each decision has an expected outcome\n",
    "Each choice has a consequence, good or bad\n",
    "\n",
    "<center><img src=\"img/BusinessOutcomes.png\" alt=\"Drawing\" style=\"height: 500px;\"/> </center>"
   ]
  },
  {
   "cell_type": "markdown",
   "metadata": {
    "slideshow": {
     "slide_type": "slide"
    }
   },
   "source": [
    "# There are multiple actual outcomes that are unknown beforehand\n",
    "\n",
    "<center><img src=\"img/ActualOutcome.png\" alt=\"Drawing\" style=\"height: 500px;\"/> </center>"
   ]
  },
  {
   "cell_type": "markdown",
   "metadata": {
    "slideshow": {
     "slide_type": "slide"
    }
   },
   "source": [
    "# The trick is picking the choice that leads to the best actual outcome\n",
    "\n",
    "<center><img src=\"img/ActualOutcomeRealized.png\" alt=\"Drawing\" style=\"height: 500px;\"/> </center>"
   ]
  },
  {
   "cell_type": "markdown",
   "metadata": {
    "slideshow": {
     "slide_type": "slide"
    }
   },
   "source": [
    "# The power of Bayesian Statistics\n",
    "Math can do a lot of things\n",
    "\n",
    "* Outcome characterization - This is the distribution of things that happened\n",
    "* Latent factor analysis - These are the things affect your outcome\n",
    "* **Decision Making** - Given all the potential outcomes here's the most optimal choice to make"
   ]
  },
  {
   "cell_type": "markdown",
   "metadata": {
    "slideshow": {
     "slide_type": "slide"
    }
   },
   "source": [
    "# That's what I do now I do now: Principal Statistician at PyMC Labs\n",
    "Work with these guys to data informed  decision making across the board"
   ]
  },
  {
   "cell_type": "markdown",
   "metadata": {
    "slideshow": {
     "slide_type": "slide"
    }
   },
   "source": [
    "# An example: Making decisions as newspaper vendor\n",
    "\n",
    "## Anisha is starting her new enterprise. \n",
    "\n",
    "* She buys them wholesale for 5 dollars and sells then for 7 dollars. \n",
    "* Newpapers only last one day, they become worthless the next day. \n",
    "* Each morning she must make a choice of how many to purchase. \n",
    "* If she buys too little she loses an opportunity, if she buys too many she wastes money on unsold papers. \n",
    "\n",
    "For her this is a big decision. She won't get a lot of tries before going out of business. How many should she purchase in the morning to **maximize her profit**?"
   ]
  },
  {
   "cell_type": "markdown",
   "metadata": {
    "slideshow": {
     "slide_type": "subslide"
    }
   },
   "source": [
    "# How can we get the best outcome using math to help?\n",
    "This problem is called the newvendor problem\n"
   ]
  },
  {
   "cell_type": "markdown",
   "metadata": {
    "slideshow": {
     "slide_type": "subslide"
    }
   },
   "source": [
    "# Profit Calculation\n",
    "\n",
    "If we know\n",
    "1. Cost of goods sold, acronym COGS (The price Anisha buys for)\n",
    "2. The end consumer's price (The price Anisha sells for)\n",
    "3. The demand for the day\n",
    "4. **Anisha's decision**: *The number of newspapers Anisha decides to buy*\n",
    "\n",
    "We can use of those we can directly calculate Anisha's profit.  \n",
    "\n",
    "*Note*: In the simplest version of this problem we do not account for lost sales, just the transactions that did occur"
   ]
  },
  {
   "cell_type": "markdown",
   "metadata": {
    "slideshow": {
     "slide_type": "subslide"
    }
   },
   "source": [
    "# Decision 1. Anisha buys 42 newspapers\n",
    "Let' assume the demand is fixed at 40 newspapers"
   ]
  },
  {
   "cell_type": "code",
   "execution_count": 2,
   "metadata": {},
   "outputs": [
    {
     "data": {
      "text/plain": [
       "'Anisha makes $70 in profit'"
      ]
     },
     "execution_count": 2,
     "metadata": {},
     "output_type": "execute_result"
    }
   ],
   "source": [
    "newspaper_cost = 5\n",
    "customer_price = 7\n",
    "\n",
    "# We c\n",
    "anishas_inventory = 42\n",
    "demand = 40\n",
    "\n",
    "profit = demand*customer_price - newspaper_cost*anishas_inventory\n",
    "\n",
    "f\"Anisha makes ${profit} in profit\""
   ]
  },
  {
   "cell_type": "markdown",
   "metadata": {
    "slideshow": {
     "slide_type": "subslide"
    }
   },
   "source": [
    "# Decision 2. Anisha buys 38 newspapers\n",
    "The demand is 40 newspapers but Anisha can only sell as many as she bought"
   ]
  },
  {
   "cell_type": "code",
   "execution_count": 3,
   "metadata": {},
   "outputs": [
    {
     "data": {
      "text/plain": [
       "'Anisha makes $76 in profit'"
      ]
     },
     "execution_count": 3,
     "metadata": {},
     "output_type": "execute_result"
    }
   ],
   "source": [
    "newspaper_cost = 5\n",
    "customer_price = 7\n",
    "anishas_inventory = 38\n",
    "\n",
    "# Anisha can't sell more news papers than she can buy so she sells out\n",
    "profit = anishas_inventory*customer_price - newspaper_cost*anishas_inventory\n",
    "f\"Anisha makes ${profit} in profit\""
   ]
  },
  {
   "cell_type": "markdown",
   "metadata": {
    "slideshow": {
     "slide_type": "subslide"
    }
   },
   "source": [
    "# Let's make this a function"
   ]
  },
  {
   "cell_type": "code",
   "execution_count": 4,
   "metadata": {
    "slideshow": {
     "slide_type": "-"
    }
   },
   "outputs": [],
   "source": [
    "def profit_calculator(inventory, demand, cogs=5, price=7):\n",
    "    \"\"\"Loss function for unmet demand\"\"\"\n",
    "    profit_per_sale = price-cogs\n",
    "    if demand < inventory:\n",
    "        leftover_product = inventory-demand\n",
    "        \n",
    "        # I'm unhappy because I lost money on unsold inventory\n",
    "        utility = demand*profit_per_sale - leftover_product * cogs\n",
    "    \n",
    "    if demand >= inventory:        \n",
    "        # I'm unhappy because I could have sold more newspapers\n",
    "        utility =  inventory*profit_per_sale \n",
    "        \n",
    "    return utility"
   ]
  },
  {
   "cell_type": "code",
   "execution_count": 5,
   "metadata": {},
   "outputs": [
    {
     "data": {
      "text/plain": [
       "'Decision 1: profit $70, Decision 2 profit $76'"
      ]
     },
     "execution_count": 5,
     "metadata": {},
     "output_type": "execute_result"
    }
   ],
   "source": [
    "f\"Decision 1: profit ${profit_calculator(42, 40)}, Decision 2 profit ${profit_calculator(38, 40)}\""
   ]
  },
  {
   "cell_type": "markdown",
   "metadata": {
    "slideshow": {
     "slide_type": "slide"
    }
   },
   "source": [
    "# Since this is PyData let's use the stack\n",
    "This function is equivalent to the one above"
   ]
  },
  {
   "cell_type": "code",
   "execution_count": 45,
   "metadata": {},
   "outputs": [],
   "source": [
    "def daily_profit(inventory, demand, newsvendor_cost=5, customer_price=7):\n",
    "    \"\"\"Calculates profit for a given day given inventory and demand\"\"\"\n",
    "    return customer_price*np.min([inventory, demand]) - newsvendor_cost*inventory"
   ]
  },
  {
   "cell_type": "code",
   "execution_count": 7,
   "metadata": {},
   "outputs": [
    {
     "data": {
      "text/plain": [
       "'Decision 1: profit $70, Decision 2 profit $76'"
      ]
     },
     "execution_count": 7,
     "metadata": {},
     "output_type": "execute_result"
    }
   ],
   "source": [
    "f\"Decision 1: profit ${daily_profit(42, 40)}, Decision 2 profit ${daily_profit(38, 40)}\""
   ]
  },
  {
   "cell_type": "code",
   "execution_count": 8,
   "metadata": {
    "slideshow": {
     "slide_type": "skip"
    }
   },
   "outputs": [],
   "source": [
    "%%capture\n",
    "choices_anisha_could_make = list(range(100))\n",
    "profit_with_each_choice = [profit_calculator(inv, 40) for inv in choices_anisha_could_make]\n",
    "\n",
    "fig, ax=plt.subplots(figsize=(10,6))\n",
    "ax.plot(choices_anisha_could_make, profit_with_each_choice)\n",
    "ax.axvline(40, linestyle='--', c=\"gray\")\n",
    "ax.set_xlabel(\"Number of Newspaper Anisha Bought\")\n",
    "ax.set_title((\"Amount of profit Anisha makes in Dollars if demand is fixed at 40 Units \\n\"\n",
    "              \"Rapid dropoff is because Anisha makes 2 dollars on each paper sold \\n\"\n",
    "              \"but loses 5 dollars on each unsold\")\n",
    "            )\n",
    "fig.savefig(\"img/ProfitCurve.png\")"
   ]
  },
  {
   "cell_type": "markdown",
   "metadata": {
    "slideshow": {
     "slide_type": "slide"
    }
   },
   "source": [
    "#  Profit curve for all the choices\n",
    "Let's plot the profit across inventory choices from 0 to 100"
   ]
  },
  {
   "cell_type": "code",
   "execution_count": 9,
   "metadata": {},
   "outputs": [],
   "source": [
    "choices_anisha_could_make = list(range(100))\n",
    "profit_with_each_choice = [profit_calculator(inv, 40) for inv in choices_anisha_could_make];"
   ]
  },
  {
   "cell_type": "markdown",
   "metadata": {
    "slideshow": {
     "slide_type": "-"
    }
   },
   "source": [
    "<center><img src=\"img/ProfitCurve.png\" alt=\"Drawing\" style=\"height: 500px;\"/> </center>"
   ]
  },
  {
   "cell_type": "markdown",
   "metadata": {
    "slideshow": {
     "slide_type": "slide"
    }
   },
   "source": [
    "# Optimal Decision given fixed demand\n",
    "If we know demand is 40 newspapers a day, well then the obvious thing to do is buy 40 newspapers in the morning. \n",
    "\n",
    "We can see this previous plot. No data science needed!!\n",
    "\n",
    "*Insert picture of pydata logo x out*"
   ]
  },
  {
   "cell_type": "markdown",
   "metadata": {
    "slideshow": {
     "slide_type": "slide"
    }
   },
   "source": [
    "# But lets run an optimizer just to double check\n",
    "I mean scipy makes it so so easy. Thanks scipy!\n",
    "\n",
    "We define an objective function that takes an array and minimization target\n",
    "\n",
    "*Note*: We need to turn this into a minimization target so we flip the sign"
   ]
  },
  {
   "cell_type": "code",
   "execution_count": 46,
   "metadata": {},
   "outputs": [],
   "source": [
    "def objective(inventory: int, demands: iter):\n",
    "    \"\"\"Takes an iterable of demand values and returns the total profit\"\"\"\n",
    "    \n",
    "    print(f\"Testing inventory value {inventory} with demands array {demands}\")\n",
    "    # Make reward function negative to turn this into a minimization problem\n",
    "    return -np.sum([daily_profit(inventory, d) for d in demands])"
   ]
  },
  {
   "cell_type": "markdown",
   "metadata": {
    "slideshow": {
     "slide_type": "slide"
    }
   },
   "source": [
    "# Optimizer run\n",
    "Optimizer tests various choices to maximize the profit given demand values"
   ]
  },
  {
   "cell_type": "code",
   "execution_count": 11,
   "metadata": {
    "slideshow": {
     "slide_type": "-"
    }
   },
   "outputs": [
    {
     "name": "stdout",
     "output_type": "stream",
     "text": [
      "Testing inventory value 0.0 with demands array [40]\n",
      "Testing inventory value 1.0 with demands array [40]\n",
      "Testing inventory value 2.6180339999999998 with demands array [40]\n",
      "Testing inventory value 178.98373999999998 with demands array [40]\n",
      "Testing inventory value 2.6180339999999998 with demands array [40]\n",
      "Testing inventory value 69.983737257996 with demands array [40]\n",
      "Testing inventory value 28.3494422106437 with demands array [40]\n",
      "Testing inventory value 28.84680861337978 with demands array [40]\n",
      "Testing inventory value 44.55971670004926 with demands array [40]\n",
      "Testing inventory value 36.578275115766075 with demands array [40]\n",
      "Testing inventory value 36.641722628043496 with demands array [40]\n",
      "Testing inventory value 39.66612715175125 with demands array [40]\n",
      "Testing inventory value 41.53531197715645 with demands array [40]\n",
      "Testing inventory value 38.510907453448695 with demands array [40]\n",
      "Testing inventory value 40.38009220277197 with demands array [40]\n",
      "Testing inventory value 39.5900995785339 with demands array [40]\n",
      "Testing inventory value 39.8401022006923 with demands array [40]\n",
      "Testing inventory value 40.046360021826665 with demands array [40]\n",
      "Testing inventory value 39.99478226645297 with demands array [40]\n",
      "Testing inventory value 39.95022391246385 with demands array [40]\n",
      "Testing inventory value 39.98778252492249 with demands array [40]\n",
      "Testing inventory value 40.01448321536204 with demands array [40]\n",
      "Testing inventory value 39.996470952875555 with demands array [40]\n",
      "Testing inventory value 40.00335102472847 with demands array [40]\n",
      "Testing inventory value 39.998139856779595 with demands array [40]\n",
      "Testing inventory value 40.000130345756354 with demands array [40]\n",
      "Testing inventory value 40.00136053562061 with demands array [40]\n",
      "Testing inventory value 39.99951459734335 with demands array [40]\n",
      "Testing inventory value 40.00017051198838 with demands array [40]\n",
      "Testing inventory value 39.999853268804614 with demands array [40]\n",
      "Testing inventory value 39.99972390782124 with demands array [40]\n",
      "Testing inventory value 39.99991201233672 with demands array [40]\n",
      "Testing inventory value 39.99999540827969 with demands array [40]\n",
      "Testing inventory value 40.0000469498079 with demands array [40]\n",
      "Testing inventory value 39.99997487237099 with demands array [40]\n",
      "Testing inventory value 40.000015095391056 with demands array [40]\n",
      "Testing inventory value 39.99999263433529 with demands array [40]\n",
      "Testing inventory value 40.00000292808687 with demands array [40]\n",
      "Testing inventory value 39.999997797884895 with demands array [40]\n",
      "Testing inventory value 39.9999984852537 with demands array [40]\n",
      "Testing inventory value 40.00000018226491 with demands array [40]\n",
      "Testing inventory value 40.00000131302801 with demands array [40]\n",
      "Testing inventory value 39.99999953406433 with demands array [40]\n"
     ]
    },
    {
     "data": {
      "text/plain": [
       "     fun: -79.99999908867545\n",
       "    nfev: 43\n",
       "     nit: 38\n",
       " success: True\n",
       "       x: 40.00000018226491"
      ]
     },
     "execution_count": 11,
     "metadata": {},
     "output_type": "execute_result"
    }
   ],
   "source": [
    "# Let scipy find minimie objective function (negative profit) if demands is set to 40\n",
    "kwargs = {\"demands\":[40]}\n",
    "opt_stoch = optimize.minimize_scalar(objective, bounds=(0, np.inf), args=([40]))\n",
    "opt_stoch"
   ]
  },
  {
   "cell_type": "code",
   "execution_count": 12,
   "metadata": {
    "slideshow": {
     "slide_type": "skip"
    }
   },
   "outputs": [],
   "source": [
    "# Restating here so future slides won't have the print\n",
    "def objective(inventory: int, demands: iter):\n",
    "    \"\"\"Takes an iterable of sales and returns the total profit\"\"\"\n",
    "    # Make reward function negative to turn this into a minimization problem\n",
    "    return -np.sum([daily_profit(inventory, d) for d in demands])"
   ]
  },
  {
   "cell_type": "markdown",
   "metadata": {
    "slideshow": {
     "slide_type": "slide"
    }
   },
   "source": [
    "# What if demand is variable\n",
    "Life is harder, both for the data scientists and the decision makers\n",
    "<center><img src=\"img/BusinessOutcomes.png\" alt=\"Drawing\" style=\"height: 500px;\"/> </center>"
   ]
  },
  {
   "cell_type": "markdown",
   "metadata": {},
   "source": [
    "# The challenge is matching the expectation to reality with uncertainty\n",
    "Easy when things are fixed, harder when things are uncertain"
   ]
  },
  {
   "cell_type": "markdown",
   "metadata": {
    "slideshow": {
     "slide_type": "slide"
    }
   },
   "source": [
    "# But what if we have variable demand?\n",
    "Making decisions is easy when you know what will happen every day. But what if it changes?\n",
    "\n",
    "Let's say we have 5 days of seen demand data and 15 unseen drawn from the same hidden distribution"
   ]
  },
  {
   "cell_type": "code",
   "execution_count": 13,
   "metadata": {
    "slideshow": {
     "slide_type": "-"
    }
   },
   "outputs": [],
   "source": [
    "np.random.seed(seed=0)\n",
    "random_seeds = [1,2,3,4,5]\n",
    "demand = np.round(stats.norm(40, 20).rvs(15)) \n",
    "demand_seen, demand_unseen = demand[:5], demand[5:]"
   ]
  },
  {
   "cell_type": "code",
   "execution_count": 14,
   "metadata": {
    "slideshow": {
     "slide_type": "slide"
    }
   },
   "outputs": [
    {
     "data": {
      "text/plain": [
       "'The first five days demand we have seen [75.00 48.00 60.00 85.00 77.00]'"
      ]
     },
     "execution_count": 14,
     "metadata": {},
     "output_type": "execute_result"
    }
   ],
   "source": [
    "f\"The first five days demand we have seen {demand_seen}\""
   ]
  },
  {
   "cell_type": "code",
   "execution_count": 15,
   "metadata": {},
   "outputs": [
    {
     "data": {
      "text/plain": [
       "'The UNSEEN next ten days of demand [20.00 59.00 37.00 38.00 48.00 43.00 69.00 55.00 42.00 49.00]'"
      ]
     },
     "execution_count": 15,
     "metadata": {},
     "output_type": "execute_result"
    }
   ],
   "source": [
    "f\"The UNSEEN next ten days of demand {demand_unseen}\""
   ]
  },
  {
   "cell_type": "markdown",
   "metadata": {},
   "source": [
    "Given the demand we've seen, how do we make an informed choice for the demand we have not seen yet?"
   ]
  },
  {
   "cell_type": "markdown",
   "metadata": {
    "slideshow": {
     "slide_type": "slide"
    }
   },
   "source": [
    "## Methodology 1: Use the mean of the observed data\n",
    "Take the average of seen demand and use that"
   ]
  },
  {
   "cell_type": "code",
   "execution_count": 16,
   "metadata": {},
   "outputs": [
    {
     "data": {
      "text/plain": [
       "'The mean demand is 69.0 newspapers'"
      ]
     },
     "execution_count": 16,
     "metadata": {},
     "output_type": "execute_result"
    }
   ],
   "source": [
    "mean_demand = demand_seen.mean()\n",
    "f\"The mean demand is {mean_demand} newspapers\""
   ]
  },
  {
   "cell_type": "code",
   "execution_count": 17,
   "metadata": {},
   "outputs": [
    {
     "data": {
      "text/plain": [
       "'Testing choice over unseen days yields 230.0 units. Lower is better'"
      ]
     },
     "execution_count": 17,
     "metadata": {},
     "output_type": "execute_result"
    }
   ],
   "source": [
    "objective_func_value = objective(inventory=mean_demand, demands=demand_unseen)\n",
    "f\"Testing choice over unseen days yields {objective_func_value} units. Lower is better\""
   ]
  },
  {
   "cell_type": "markdown",
   "metadata": {
    "slideshow": {
     "slide_type": "slide"
    }
   },
   "source": [
    "# We got an answer!\n",
    "Whoo, data science!\n",
    "\n",
    "## but we left information on the table\n",
    "\n",
    "* No estimate of uncertainty used in decision\n",
    "* Didn't use the profit or buying cost information at all\n"
   ]
  },
  {
   "cell_type": "markdown",
   "metadata": {
    "slideshow": {
     "slide_type": "slide"
    }
   },
   "source": [
    "# Methodology 2: Let's use statistics\n",
    "Statistics let's us characterize uncertainty. This is something we want to do"
   ]
  },
  {
   "cell_type": "markdown",
   "metadata": {
    "slideshow": {
     "slide_type": "slide"
    }
   },
   "source": [
    "# Assume fixed demand and a known demand distribution\n",
    "\n",
    "## If we do we can use the critical fractile equation\n",
    "If we do things are easy, plug in the mean and standard deviation and we'll get the optimal answer. Mathematically guaranteed"
   ]
  },
  {
   "cell_type": "markdown",
   "metadata": {
    "slideshow": {
     "slide_type": "slide"
    }
   },
   "source": [
    "<center><img src=\"img/CriticalFractile.png\" alt=\"Drawing\" style=\"height: 500px;\"/> </center>"
   ]
  },
  {
   "cell_type": "markdown",
   "metadata": {
    "slideshow": {
     "slide_type": "slide"
    }
   },
   "source": [
    "##  Let's assume demand is normally distributed\n",
    "So far so good, this looks easy!\n",
    "\n",
    "![CriticalFractileNormal](img/CriticalFractileNormal.png)"
   ]
  },
  {
   "cell_type": "markdown",
   "metadata": {
    "slideshow": {
     "slide_type": "slide"
    }
   },
   "source": [
    "## But where do we get parameters mean and standard devation from?\n",
    "The critical fractile equation is only optimal if we know the true mean and standard deviation of the demand generating distribution. \n",
    "\n",
    "We don't have those but let's estimate them from our `demand_seen` array"
   ]
  },
  {
   "cell_type": "code",
   "execution_count": 18,
   "metadata": {
    "slideshow": {
     "slide_type": "-"
    }
   },
   "outputs": [
    {
     "data": {
      "text/plain": [
       "'Assuming Normal demand distribution the mean demand 69.0  with Standard Deviation 13.251415018781957 newspapers'"
      ]
     },
     "execution_count": 18,
     "metadata": {},
     "output_type": "execute_result"
    }
   ],
   "source": [
    "demand_mean, demand_std  = demand_seen.mean(), demand_seen.std()\n",
    "f\"Assuming Normal demand distribution the mean demand {demand_mean}  with Standard Deviation {demand_std} newspapers\""
   ]
  },
  {
   "cell_type": "markdown",
   "metadata": {
    "slideshow": {
     "slide_type": "slide"
    }
   },
   "source": [
    "## With those two assumptions let's use our formula\n",
    "In this model the fractile_inventory is the optimal inventory number. We use the objective function to compare to our earlier method"
   ]
  },
  {
   "cell_type": "code",
   "execution_count": 19,
   "metadata": {},
   "outputs": [
    {
     "data": {
      "text/plain": [
       "'Testing inventory choice 61.5003772811769 over unseen days yields -92.48377690939299 units. Lower is better'"
      ]
     },
     "execution_count": 19,
     "metadata": {},
     "output_type": "execute_result"
    }
   ],
   "source": [
    "fractile_inventory = demand_seen.mean()+demand_seen.std()*stats.norm.ppf((7-5)/7)\n",
    "objective_func_value = objective(inventory=fractile_inventory, demands=demand_unseen)\n",
    "\n",
    "f\"Testing inventory choice {fractile_inventory} over unseen days yields {objective_func_value} units. Lower is better\""
   ]
  },
  {
   "cell_type": "markdown",
   "metadata": {
    "slideshow": {
     "slide_type": "slide"
    }
   },
   "source": [
    "# We did better! 230 -> -92 from objective function\n",
    "This time we took into account\n",
    "* The mean\n",
    "* Uncertainty in our standard deviation\n",
    "* The cost of overstocking versus understocking\n",
    "\n",
    "## But how are sure are we?\n",
    "We only have 5 data points, is our calculated mean and standard deviation the true mean and standard deviation?"
   ]
  },
  {
   "cell_type": "markdown",
   "metadata": {},
   "source": [
    "# With a small amount of data we can't be sure\n",
    "Yet with the critical fractile we can only choose 1 pair"
   ]
  },
  {
   "cell_type": "code",
   "execution_count": 20,
   "metadata": {},
   "outputs": [
    {
     "data": {
      "text/plain": [
       "[<matplotlib.lines.Line2D at 0x11610ebe0>]"
      ]
     },
     "execution_count": 20,
     "metadata": {},
     "output_type": "execute_result"
    },
    {
     "data": {
      "image/png": "[encoded data removed]",
      "text/plain": [
       "<Figure size 864x432 with 2 Axes>"
      ]
     },
     "metadata": {
      "needs_background": "light"
     },
     "output_type": "display_data"
    }
   ],
   "source": [
    "values = np.round(stats.norm(40, 20).rvs(100))\n",
    "simulations = 100\n",
    "mean, std = [], []\n",
    "\n",
    "for _ in range(simulations):\n",
    "    values = stats.norm(40, 20).rvs(5)\n",
    "    mean.append(values.mean())\n",
    "    std.append(values.std())\n",
    "    \n",
    "fig, ax = plt.subplots(2,1, figsize = (12, 6))\n",
    "\n",
    "ax[0].plot(range(simulations), mean)\n",
    "ax[1].plot(range(simulations), std)\n"
   ]
  },
  {
   "cell_type": "markdown",
   "metadata": {
    "slideshow": {
     "slide_type": "slide"
    }
   },
   "source": [
    "# Methodology 3: Let's use Bayesian Statistics\n",
    "Bayesian statistics treats the data as fixed, but the parameters like mean and standard deviation as unknown. Let's first see if we can estimate our parameters."
   ]
  },
  {
   "cell_type": "code",
   "execution_count": 30,
   "metadata": {},
   "outputs": [
    {
     "name": "stderr",
     "output_type": "stream",
     "text": [
      "Auto-assigning NUTS sampler...\n",
      "Initializing NUTS using jitter+adapt_diag...\n",
      "Multiprocess sampling (2 chains in 2 jobs)\n",
      "NUTS: [mean_of_newspaper_demand, standard_deviation_of_newspaper_demand]\n"
     ]
    },
    {
     "data": {
      "text/html": [
       "\n",
       "    <div>\n",
       "        <style>\n",
       "            /* Turns off some styling */\n",
       "            progress {\n",
       "                /* gets rid of default border in Firefox and Opera. */\n",
       "                border: none;\n",
       "                /* Needs to be in here for Safari polyfill so background images work as expected. */\n",
       "                background-size: auto;\n",
       "            }\n",
       "            .progress-bar-interrupted, .progress-bar-interrupted::-webkit-progress-bar {\n",
       "                background: #F44336;\n",
       "            }\n",
       "        </style>\n",
       "      <progress value='30000' class='' max='30000' style='width:300px; height:20px; vertical-align: middle;'></progress>\n",
       "      100.00% [30000/30000 00:22<00:00 Sampling 2 chains, 0 divergences]\n",
       "    </div>\n",
       "    "
      ],
      "text/plain": [
       "<IPython.core.display.HTML object>"
      ]
     },
     "metadata": {},
     "output_type": "display_data"
    },
    {
     "name": "stderr",
     "output_type": "stream",
     "text": [
      "Sampling 2 chains for 5_000 tune and 10_000 draw iterations (10_000 + 20_000 draws total) took 27 seconds.\n"
     ]
    }
   ],
   "source": [
    "import pymc3 as pm\n",
    "import arviz as az\n",
    "with pm.Model() as newsvendor:\n",
    "    \n",
    "    # These are our priors that are set through \"experience\". Well get back to this\n",
    "    sd = pm.HalfStudentT(\"standard_deviation_of_newspaper_demand\", sigma=10, nu=20)\n",
    "    mu = pm.Normal(\"mean_of_newspaper_demand\", demand_seen.mean(), 20)\n",
    "    demand = pm.TruncatedNormal(\"demand\", mu=mu, sd=sd, lower=0, observed = demand_seen)\n",
    "\n",
    "    trace = pm.sample(tune=5000, draws=10000, chains=2)\n",
    "    posterior_predictive = pm.sample_posterior_predictive(trace, progressbar=False)\n",
    "    inf_data = az.from_pymc3(trace=trace, posterior_predictive=posterior_predictive)"
   ]
  },
  {
   "cell_type": "markdown",
   "metadata": {
    "slideshow": {
     "slide_type": "slide"
    }
   },
   "source": [
    "## Distributions estimates of the Mean and Standard deviation of True demand distribution\n",
    "This isn't a distribution of how many newspapers are sold.\n",
    "These are distributions of parameters that describe *possible* distributions of newspapers sold each day\n",
    "In our case $N(\\mu, \\sigma)$ [or in words **Normal** (*mean*, *standard deviation*]"
   ]
  },
  {
   "cell_type": "code",
   "execution_count": 31,
   "metadata": {},
   "outputs": [
    {
     "name": "stderr",
     "output_type": "stream",
     "text": [
      "/Users/canyon/.miniconda3/envs/pydata/lib/python3.8/site-packages/arviz/data/io_pymc3.py:87: FutureWarning: Using `from_pymc3` without the model will be deprecated in a future release. Not using the model will return less accurate and less useful results. Make sure you use the model argument or call from_pymc3 within a model context.\n",
      "  warnings.warn(\n"
     ]
    },
    {
     "data": {
      "image/png": "[encoded data removed]",
      "text/plain": [
       "<Figure size 993.6x331.2 with 2 Axes>"
      ]
     },
     "metadata": {
      "needs_background": "light"
     },
     "output_type": "display_data"
    }
   ],
   "source": [
    "az.plot_posterior(trace);"
   ]
  },
  {
   "cell_type": "markdown",
   "metadata": {},
   "source": [
    "## What we get: Multiple estimates of future demand per day (Posterior Predictive)\n"
   ]
  },
  {
   "cell_type": "code",
   "execution_count": 42,
   "metadata": {},
   "outputs": [
    {
     "data": {
      "image/png": "[encoded data removed]",
      "text/plain": [
       "<Figure size 1008x432 with 1 Axes>"
      ]
     },
     "metadata": {
      "needs_background": "light"
     },
     "output_type": "display_data"
    }
   ],
   "source": [
    "fig, ax = plt.subplots(figsize=(14, 6))\n",
    "bayesian_demand_estimates = inf_data.posterior_predictive[\"demand\"].values.flatten()\n",
    "\n",
    "az.plot_dist(bayesian_demand_estimates, kind=\"hist\", ax=ax)\n",
    "ax.set_title(\"Possible Daily Demands\")\n",
    "ax.set_yticks([]);"
   ]
  },
  {
   "cell_type": "markdown",
   "metadata": {
    "slideshow": {
     "slide_type": "slide"
    }
   },
   "source": [
    "## Now we can optimize over all versions of the future\n",
    "Let's use our optimizer in conjunction with our objective function to find the optiomal *inventory holding choice* given *all possible daily demands*"
   ]
  },
  {
   "cell_type": "code",
   "execution_count": 40,
   "metadata": {},
   "outputs": [],
   "source": [
    "from scipy import optimize\n",
    "bayesian_demand_estimates = inf_data.posterior_predictive[\"demand\"].values.flatten()\n",
    "opt_stoch = optimize.minimize_scalar(objective, bounds=(0, np.inf), args=(bayesian_demand_estimates,))"
   ]
  },
  {
   "cell_type": "code",
   "execution_count": 43,
   "metadata": {},
   "outputs": [
    {
     "data": {
      "text/plain": [
       "'Optimal inventory from Bayesian demand estimation and optimizer is 60.54918437485002 newspapers'"
      ]
     },
     "execution_count": 43,
     "metadata": {},
     "output_type": "execute_result"
    }
   ],
   "source": [
    "bayes_opt = opt_stoch.x\n",
    "f\"Optimal inventory from Bayesian demand estimation and optimizer is {bayes_opt} newspapers\""
   ]
  },
  {
   "cell_type": "code",
   "execution_count": 44,
   "metadata": {},
   "outputs": [
    {
     "data": {
      "text/plain": [
       "'Testing inventory choice over unseen days yields -133.38507188144928 units. Lower is better'"
      ]
     },
     "execution_count": 44,
     "metadata": {},
     "output_type": "execute_result"
    }
   ],
   "source": [
    "objective_func_value = objective(opt_stoch.x, demand_unseen)\n",
    "f\"Testing inventory choice over unseen days yields {objective_func_value} units. Lower is better\""
   ]
  },
  {
   "cell_type": "markdown",
   "metadata": {},
   "source": [
    "# The best so far. Objective function score -133\n",
    "\n",
    "This time we took into account all the stuff before\n",
    "* The central tendency of demand using mean estimates\n",
    "* Uncertainty in demand with standard deviation estimates\n",
    "* The cost of overstocking versus understocking\n",
    "\n",
    "and\n",
    "* incorporates prior business knowledge\n",
    "* preserves the uncertainty from our smaller data size\n",
    "\n",
    "By utilizing both we're able to maximize the chance that we get a better outcome!"
   ]
  },
  {
   "cell_type": "markdown",
   "metadata": {
    "slideshow": {
     "slide_type": "slide"
    }
   },
   "source": [
    "# What have we done so far?\n",
    "Insert picture of what we have"
   ]
  },
  {
   "cell_type": "markdown",
   "metadata": {
    "slideshow": {
     "slide_type": "subslide"
    }
   },
   "source": [
    "# The real world is much more complex though\n",
    "Remember this problem highly simplifies things. It assumes\n",
    "* Non stationary demand distribution of known type\n",
    "* Single period inventory\n",
    "* Fixed purchase price\n",
    "* Fixed sales price\n",
    "* No related factors (CovariateS)\n",
    "\n",
    "### What if things change?\n",
    "We'll the critical fractile formula no longer applies, but we can extend the Bayesian Model"
   ]
  },
  {
   "cell_type": "markdown",
   "metadata": {
    "slideshow": {
     "slide_type": "subslide"
    }
   },
   "source": [
    "# Model Extensibility and Flexibility\n",
    "\n",
    "Anisha learns the real world is messy and demand\n",
    "* is not fixed but instead varies on weekends, or when its rainy,\n",
    "* or is increasing over time\n",
    "* or that she'll always receive\n",
    "* or that there's 3 sources of demand, working professionals, companies, and students\n",
    "* or that some newspaper printers are more reliable than others\n",
    "\n",
    "Bayes can handle this problem!"
   ]
  },
  {
   "cell_type": "markdown",
   "metadata": {
    "slideshow": {
     "slide_type": "subslide"
    }
   },
   "source": [
    "# Ability to share data across groups\n",
    "Anisha opens up a new newsstand in a different city. Bayesian \n",
    "\n",
    "** Insert picture of a map or something **"
   ]
  },
  {
   "cell_type": "markdown",
   "metadata": {
    "slideshow": {
     "slide_type": "subslide"
    }
   },
   "source": [
    "# First class preservation of uncertainty\n",
    "Some decisions are so impactful you need to know all possible outcomes, often referred to as tail risk.\n",
    "\n",
    "**Insert picture of tail risk**"
   ]
  },
  {
   "cell_type": "markdown",
   "metadata": {
    "slideshow": {
     "slide_type": "subslide"
    }
   },
   "source": [
    "# Incorporation of business knowledge in priors\n",
    "\n",
    "### Wait a second isn't that *gasp* subjective?\n",
    "All statistical methods are subjective.\n",
    "* In the mean and critical fractile method you must remove \"outliers\" manually or results can be skewed\n",
    "* Deciding how far back in history to consider is a human choice\n",
    "* In critical fractile method you must choose distribution\n",
    "\n",
    "The choice of model architecture itself is a subjective choice. Sometimes you let dead people like Ronald Fisher make that choice for you but it's subjective nonetheless"
   ]
  },
  {
   "cell_type": "markdown",
   "metadata": {
    "slideshow": {
     "slide_type": "notes"
    }
   },
   "source": [
    "# All business is subjective\n",
    "\n",
    "All business decisions take place in a subjective context. Bayesian methods let you incorporate this knowledge into the model in a principled manner, rather than reject it outright\n",
    "\n",
    "There are such a thing as uninformative priors that are purely mathematical but again you're not forced to, but rather given a choice, to use them."
   ]
  },
  {
   "cell_type": "markdown",
   "metadata": {
    "slideshow": {
     "slide_type": "subslide"
    }
   },
   "source": [
    "# Estimations of subjectivity/uncertainty throughout\n",
    "Some decisions are so impactful you need to know all possible outcomes, often referred to as tail risk."
   ]
  },
  {
   "cell_type": "markdown",
   "metadata": {
    "slideshow": {
     "slide_type": "subslide"
    }
   },
   "source": [
    "# Trigger warning: Greater community adoption of principled workflow\n",
    "\n",
    "Frequentist math is great, but the workflow are often taught as \"plug and chug\""
   ]
  },
  {
   "cell_type": "markdown",
   "metadata": {
    "slideshow": {
     "slide_type": "slide"
    }
   },
   "source": [
    "# Why are methods like critical fractile still around?\n",
    "\n",
    "* They're still useful! With large dataets good estimations of underlying distributions are possible\n",
    "    * Not all decisions require a full Bayesian treatment\n",
    "* Easier to implement. Development time is a business cost to be considered\n",
    "* Easier to explain to stakeholders. Communication of approach should always be considered.\n",
    "* Historical bias. Still taught in college and in textbooks which haven't incorporated newer methods\n"
   ]
  },
  {
   "cell_type": "markdown",
   "metadata": {
    "slideshow": {
     "slide_type": "slide"
    }
   },
   "source": [
    "# When I suggest you use Bayesian methods\n",
    "\n",
    " I have found Bayesian statistics to be the most useful in areas where\n",
    "\n",
    "* prior business knowledge is important or required\n",
    "* all the possibilities need to be accounted for, not just the most likely outcome\n",
    "* flexibiity to create a model of your own architecture\n",
    "\n",
    "All those are helpful when the impact of the decision is highly consequential\n",
    "\n",
    "### Picking your decision making framework is a choice, just like the decision itself. \n"
   ]
  },
  {
   "cell_type": "markdown",
   "metadata": {
    "slideshow": {
     "slide_type": "subslide"
    }
   },
   "source": [
    "# Bottom Line: Some decisions are just that important\n",
    "Some decisions are so impactful you need to know all possible outcomes, because some are just too devestating not to consider (Often referred to as tail risk), and you don't always have as much data as you like"
   ]
  },
  {
   "cell_type": "markdown",
   "metadata": {},
   "source": [
    "# How to get started\n",
    "* Rethinking\n",
    "* Bayesian Method for Hackers\n",
    "* PyMC3 docs\n",
    "* Regression and other stories"
   ]
  }
 ],
 "metadata": {
  "celltoolbar": "Slideshow",
  "kernelspec": {
   "display_name": "Python 3",
   "language": "python",
   "name": "python3"
  },
  "language_info": {
   "codemirror_mode": {
    "name": "ipython",
    "version": 3
   },
   "file_extension": ".py",
   "mimetype": "text/x-python",
   "name": "python",
   "nbconvert_exporter": "python",
   "pygments_lexer": "ipython3",
   "version": "3.8.5"
  },
  "livereveal": {
   "autolaunch": true,
   "scroll": true
  }
 },
 "nbformat": 4,
 "nbformat_minor": 4
}
